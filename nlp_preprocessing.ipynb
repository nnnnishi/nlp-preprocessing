{
 "cells": [
  {
   "cell_type": "markdown",
   "metadata": {
    "collapsed": true
   },
   "source": [
    "# Text cleaning & split & normalize\n",
    "refere to http://qiita.com/Hironsan/items/2466fe0f344115aff177"
   ]
  },
  {
   "cell_type": "code",
   "execution_count": 1,
   "metadata": {},
   "outputs": [],
   "source": [
    "# Texts cleaning process\n",
    "\n",
    "import re\n",
    "import jaconv\n",
    "\n",
    "\n",
    "def clean(text):\n",
    "    replaced_text = jaconv.h2z(text)\n",
    "    replaced_text = re.sub(r'[【】]', ' ', replaced_text)       # 【】の除去\n",
    "    replaced_text = re.sub(r'[（）()]', ' ', replaced_text)     # （）の除去\n",
    "    replaced_text = re.sub(r'[［］\\[\\]]', ' ', replaced_text)   # ［］の除去\n",
    "    replaced_text = re.sub(r'[\\!\\！]', ' ', replaced_text)   # !の除去\n",
    "    replaced_text = re.sub(r'[\\.\\。．]', ' ', replaced_text)   # .の除去\n",
    "    replaced_text = re.sub(r'[\\,\\、，]', ' ', replaced_text)   # ,の除去\n",
    "    replaced_text = re.sub(r'[@＠]\\w+', '', replaced_text)  # メンションの除去\n",
    "    replaced_text = re.sub(r'https?:\\/\\/.*?[\\r\\n ]', '', replaced_text)  # URLの除去\n",
    "    replaced_text = re.sub(r'　', ' ', replaced_text)  # 全角空白の除去\n",
    "    return replaced_text"
   ]
  },
  {
   "cell_type": "code",
   "execution_count": 2,
   "metadata": {},
   "outputs": [],
   "source": [
    "# Texts split process\n",
    "\n",
    "import MeCab\n",
    "\n",
    "mecab = MeCab.Tagger('-d /usr/local/lib/mecab/dic/mecab-ipadic-neologd')\n",
    "\n",
    "\n",
    "def split(text):\n",
    "    words = []\n",
    "    mecab.parse('')\n",
    "    node = mecab.parseToNode(text)\n",
    "    while node:\n",
    "        base = node.feature.split(\",\")[6]\n",
    "        if base != '*':\n",
    "            words.append(base)\n",
    "        node = node.next\n",
    "    return words"
   ]
  },
  {
   "cell_type": "code",
   "execution_count": 3,
   "metadata": {},
   "outputs": [],
   "source": [
    "# Words normalize process \n",
    "\n",
    "import jaconv\n",
    "\n",
    "\n",
    "def normalize(words):\n",
    "    replace_words = []\n",
    "    for w in words:\n",
    "        if w != '':\n",
    "            replace_words.append(jaconv.normalize(jaconv.hira2kata(w)))\n",
    "    return replace_words"
   ]
  },
  {
   "cell_type": "code",
   "execution_count": 4,
   "metadata": {},
   "outputs": [
    {
     "name": "stdout",
     "output_type": "stream",
     "text": [
      "['オトナリ', 'ノ', '客', 'ハ', 'ヨク', '食ウ', '客', 'ダ']\n"
     ]
    }
   ],
   "source": [
    "print(normalize(split(clean('ｵﾄﾅﾘの客は，よく＠牡蠣 食う客だ！'))))"
   ]
  }
 ],
 "metadata": {
  "kernelspec": {
   "display_name": "Python 2",
   "language": "python",
   "name": "python2"
  },
  "language_info": {
   "codemirror_mode": {
    "name": "ipython",
    "version": 2.0
   },
   "file_extension": ".py",
   "mimetype": "text/x-python",
   "name": "python",
   "nbconvert_exporter": "python",
   "pygments_lexer": "ipython2",
   "version": "2.7.6"
  }
 },
 "nbformat": 4,
 "nbformat_minor": 0
}